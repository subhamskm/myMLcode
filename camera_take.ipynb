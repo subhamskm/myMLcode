{
 "cells": [
  {
   "cell_type": "code",
   "execution_count": 1,
   "metadata": {},
   "outputs": [
    {
     "name": "stdout",
     "output_type": "stream",
     "text": [
      "Camera is ready to take picture..\n"
     ]
    }
   ],
   "source": [
    "import cv2\n",
    "cam=cv2.VideoCapture(0)\n",
    "if cam.isOpened():\n",
    "    print(\"Camera is ready to take picture..\")\n",
    "    status, frame = cam.read()\n",
    "    cv2.imshow(\"frame1\",frame)\n",
    "    cv2.waitKey(0)\n",
    "    cam.release()\n",
    "else:\n",
    "    print(\"Check your camera drivers..\")\n",
    "    "
   ]
  },
  {
   "cell_type": "code",
   "execution_count": null,
   "metadata": {},
   "outputs": [],
   "source": []
  },
  {
   "cell_type": "code",
   "execution_count": null,
   "metadata": {},
   "outputs": [],
   "source": []
  }
 ],
 "metadata": {
  "kernelspec": {
   "display_name": "Python 3",
   "language": "python",
   "name": "python3"
  },
  "language_info": {
   "codemirror_mode": {
    "name": "ipython",
    "version": 3
   },
   "file_extension": ".py",
   "mimetype": "text/x-python",
   "name": "python",
   "nbconvert_exporter": "python",
   "pygments_lexer": "ipython3",
   "version": "3.6.3"
  }
 },
 "nbformat": 4,
 "nbformat_minor": 2
}
