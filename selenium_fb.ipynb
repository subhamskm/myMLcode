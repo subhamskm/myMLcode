{
 "cells": [
  {
   "cell_type": "code",
   "execution_count": 1,
   "metadata": {},
   "outputs": [],
   "source": [
    "from selenium import webdriver\n",
    "from selenium.webdriver.common.keys import Keys\n",
    "d=webdriver.Firefox()\n",
    "d.get('https://www.facebook.com')\n",
    "\n",
    "username=d.find_element_by_id(\"email\")\n",
    "password=d.find_element_by_id(\"pass\")\n",
    "\n",
    "username.send_keys(\"YourUserHandle\")\n",
    "password.send_keys(\"YourPassword\")\n",
    "\n",
    "sub=d.find_element_by_id(\"u_0_2\")\n",
    "sub.submit()\n"
   ]
  },
  {
   "cell_type": "code",
   "execution_count": null,
   "metadata": {},
   "outputs": [],
   "source": []
  },
  {
   "cell_type": "code",
   "execution_count": null,
   "metadata": {},
   "outputs": [],
   "source": []
  }
 ],
 "metadata": {
  "kernelspec": {
   "display_name": "Python 3",
   "language": "python",
   "name": "python3"
  },
  "language_info": {
   "codemirror_mode": {
    "name": "ipython",
    "version": 3
   },
   "file_extension": ".py",
   "mimetype": "text/x-python",
   "name": "python",
   "nbconvert_exporter": "python",
   "pygments_lexer": "ipython3",
   "version": "3.6.3"
  }
 },
 "nbformat": 4,
 "nbformat_minor": 2
}
