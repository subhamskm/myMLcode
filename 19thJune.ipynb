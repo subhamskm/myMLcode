{
 "cells": [
  {
   "cell_type": "code",
   "execution_count": 1,
   "metadata": {},
   "outputs": [],
   "source": [
    "from sklearn.datasets import load_iris\n",
    "from sklearn.model_selection import train_test_split\n",
    "from sklearn.metrics import accuracy_score\n",
    "from sklearn import tree\n",
    "from sklearn.neighbors import KNeighborsClassifier"
   ]
  },
  {
   "cell_type": "code",
   "execution_count": 35,
   "metadata": {},
   "outputs": [
    {
     "name": "stdout",
     "output_type": "stream",
     "text": [
      "[1 2 2 1 2 0 0 2 1 2 1 0 1 2 2]\n",
      "[1 2 1 1 2 0 0 2 1 2 1 0 1 2 2]\n",
      "0.9333333333333333\n",
      "[1 1 1 1 1 0 0 1 1 1 1 0 1 1 1]\n",
      "0.9333333333333333\n"
     ]
    }
   ],
   "source": [
    "iris=load_iris()\n",
    "train_data,test_data,train_target,test_target=train_test_split(iris.data,iris.target,test_size=0.1)\n",
    "clf=tree.DecisionTreeClassifier()\n",
    "trained=clf.fit(train_data,train_target)\n",
    "output=trained.predict(test_data)\n",
    "print(test_target)\n",
    "print(output)\n",
    "print(accuracy_score(test_target,output))\n",
    "knnclf=KNeighborsClassifier(n_neighbors=5)\n",
    "trainedknn=knnclf.fit(train_data,train_target)\n",
    "out=trainedknn.predict(test_data)\n",
    "print(out)\n",
    "print(accuracy_score(test_target,output))"
   ]
  },
  {
   "cell_type": "code",
   "execution_count": 39,
   "metadata": {},
   "outputs": [],
   "source": [
    "tree.export_graphviz(clf, out_file=\"tree.dot\", max_depth=7, feature_names=iris.feature_names, class_names=iris.target_names, filled=True, rounded=True)"
   ]
  },
  {
   "cell_type": "code",
   "execution_count": 38,
   "metadata": {},
   "outputs": [
    {
     "name": "stdout",
     "output_type": "stream",
     "text": [
      "<class 'numpy.ndarray'>\n"
     ]
    }
   ],
   "source": [
    "\n",
    "print(type(iris.target_names))"
   ]
  },
  {
   "cell_type": "code",
   "execution_count": null,
   "metadata": {},
   "outputs": [],
   "source": []
  }
 ],
 "metadata": {
  "kernelspec": {
   "display_name": "Python 3",
   "language": "python",
   "name": "python3"
  },
  "language_info": {
   "codemirror_mode": {
    "name": "ipython",
    "version": 3
   },
   "file_extension": ".py",
   "mimetype": "text/x-python",
   "name": "python",
   "nbconvert_exporter": "python",
   "pygments_lexer": "ipython3",
   "version": "3.6.3"
  }
 },
 "nbformat": 4,
 "nbformat_minor": 2
}
